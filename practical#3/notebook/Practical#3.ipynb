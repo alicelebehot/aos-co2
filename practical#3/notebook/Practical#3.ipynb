{
 "cells": [
  {
   "cell_type": "markdown",
   "metadata": {},
   "source": [
    "# Practical #3: Change in vertical profiles of DIC across the globe: a visualisation analysis based on GLODAP versions 1 & 2\n"
   ]
  },
  {
   "cell_type": "code",
   "execution_count": 1,
   "metadata": {},
   "outputs": [],
   "source": [
    "# Import libraries \n",
    "\n"
   ]
  },
  {
   "cell_type": "markdown",
   "metadata": {},
   "source": [
    "## Reading netCDF file with xarray"
   ]
  },
  {
   "cell_type": "code",
   "execution_count": 2,
   "metadata": {},
   "outputs": [],
   "source": [
    "# Define the path and name of the file we are studying and open it with xarray (conventially, Datasets are names: xrs)\n"
   ]
  },
  {
   "cell_type": "markdown",
   "metadata": {},
   "source": [
    "## Anthropogenic CO$_{2}$ inventory "
   ]
  },
  {
   "cell_type": "markdown",
   "metadata": {},
   "source": [
    "### Convert Anthropogenic CO$_{2}$ from $\\mu$mol kg$^{-1}$ to mol m$^{-3}$ (in both GLODAP v1 and v2 fields)\n",
    "\n",
    "Assuming that 1L of seawater is 1.025 kg. <br>\n"
   ]
  },
  {
   "cell_type": "code",
   "execution_count": 3,
   "metadata": {},
   "outputs": [],
   "source": []
  },
  {
   "cell_type": "markdown",
   "metadata": {},
   "source": [
    "### Calculate the column inventory of anthropogenic CO$_{2}$ (in mol m$^{-2}$)"
   ]
  },
  {
   "cell_type": "code",
   "execution_count": 8,
   "metadata": {},
   "outputs": [],
   "source": [
    "# Extract the depth variable from the xarray dataset \n"
   ]
  },
  {
   "cell_type": "code",
   "execution_count": 9,
   "metadata": {},
   "outputs": [],
   "source": [
    "# Calculating the depth difference (m) between each of the 33 levels\n",
    "# Hint: you need to initiate the depth_difference variable with zeros, \n",
    "# and then need to create a \"for\" loop starting from index 1\n"
   ]
  },
  {
   "cell_type": "code",
   "execution_count": 18,
   "metadata": {},
   "outputs": [],
   "source": [
    "# Calculate the column inventory of anthropogenic CO2 in each grid cell \n",
    "# Hint: column inventory = sum of (concentration of anthropogenic CO2 * depth difference)\n"
   ]
  },
  {
   "cell_type": "code",
   "execution_count": 13,
   "metadata": {},
   "outputs": [
    {
     "data": {
      "text/plain": [
       "0.0"
      ]
     },
     "execution_count": 13,
     "metadata": {},
     "output_type": "execute_result"
    }
   ],
   "source": [
    "# Note what happens when using np.nansum for an array full of NaN\n",
    "np.nansum([np.nan, np.nan, np.nan])\n",
    "\n",
    "# So what needs to happend to column inventory values that store a 0 value? \n",
    "\n"
   ]
  },
  {
   "cell_type": "code",
   "execution_count": 15,
   "metadata": {},
   "outputs": [],
   "source": [
    "# Plot the column inventory results from GLODAP v1 on a left panel and from GLODAP v2 on a right panel.\n",
    "# Hint: Use pcolormesh \n"
   ]
  },
  {
   "cell_type": "code",
   "execution_count": 14,
   "metadata": {},
   "outputs": [],
   "source": [
    "# Plot the difference in anthropogenic CO2 column inventory between GLODAP v1 and v2.\n"
   ]
  },
  {
   "cell_type": "markdown",
   "metadata": {},
   "source": [
    "## Global surface DIC "
   ]
  },
  {
   "cell_type": "code",
   "execution_count": 17,
   "metadata": {},
   "outputs": [],
   "source": [
    "# Plot the global surface DIC from GLODAP v1 on a left panel and from GLODAP v2 on a right panel.\n"
   ]
  },
  {
   "cell_type": "code",
   "execution_count": 16,
   "metadata": {},
   "outputs": [],
   "source": [
    "# Plot the difference in surface DIC concentrations between GLODAP v1 and v2.\n"
   ]
  },
  {
   "cell_type": "markdown",
   "metadata": {},
   "source": [
    "## DIC Profiles "
   ]
  },
  {
   "cell_type": "markdown",
   "metadata": {},
   "source": [
    "### In the Southern Ocean\n",
    "\n",
    "latitude: below 50$^\\circ$S\n",
    "\n",
    "---\n",
    "Let's do this example together!"
   ]
  },
  {
   "cell_type": "code",
   "execution_count": 153,
   "metadata": {},
   "outputs": [],
   "source": [
    "# Extract DIC from GLODAP v1 and GLODAP v2 for the Southern Ocean (for all depth)\n"
   ]
  },
  {
   "cell_type": "code",
   "execution_count": 18,
   "metadata": {},
   "outputs": [],
   "source": [
    "\n",
    "# --- PLOTTING RESULTS FROM GLODAP V1\n",
    "\n",
    "# --- PLOTTING RESULTS FROM GLODAP V2\n"
   ]
  },
  {
   "cell_type": "code",
   "execution_count": 19,
   "metadata": {},
   "outputs": [],
   "source": [
    "# Display on the same figure the mean DIC profile in the Southern Ocean from GLODAP v1 and GLODAP v2\n"
   ]
  },
  {
   "cell_type": "markdown",
   "metadata": {},
   "source": [
    "### In the subpolar North Atlantic\n",
    "\n",
    "latitude: 50$^\\circ$N to 70$^\\circ$N <br>\n",
    "longitude: -75$^\\circ$E to 5$^\\circ$E\n",
    "\n",
    "---\n",
    "Now your turn!"
   ]
  },
  {
   "cell_type": "code",
   "execution_count": 136,
   "metadata": {},
   "outputs": [],
   "source": [
    "# Extract DIC from GLODAP v1 and GLODAP v2 for the North Atlantic (for all depth)\n",
    "# Hint: be careful on using brackets for multiple if statements"
   ]
  },
  {
   "cell_type": "code",
   "execution_count": 20,
   "metadata": {},
   "outputs": [],
   "source": [
    "\n",
    "# --- PLOTTING RESULTS FROM GLODAP V1\n",
    "\n",
    "\n",
    "# --- PLOTTING RESULTS FROM GLODAP V2\n"
   ]
  },
  {
   "cell_type": "code",
   "execution_count": 21,
   "metadata": {},
   "outputs": [],
   "source": [
    "# Display on the same figure the mean DIC profile in the North Atlantic from GLODAP v1 and GLODAP v2\n"
   ]
  }
 ],
 "metadata": {
  "kernelspec": {
   "display_name": "Python 3",
   "language": "python",
   "name": "python3"
  },
  "language_info": {
   "codemirror_mode": {
    "name": "ipython",
    "version": 3
   },
   "file_extension": ".py",
   "mimetype": "text/x-python",
   "name": "python",
   "nbconvert_exporter": "python",
   "pygments_lexer": "ipython3",
   "version": "3.7.0"
  },
  "varInspector": {
   "cols": {
    "lenName": 16,
    "lenType": 16,
    "lenVar": 40
   },
   "kernels_config": {
    "python": {
     "delete_cmd_postfix": "",
     "delete_cmd_prefix": "del ",
     "library": "var_list.py",
     "varRefreshCmd": "print(var_dic_list())"
    },
    "r": {
     "delete_cmd_postfix": ") ",
     "delete_cmd_prefix": "rm(",
     "library": "var_list.r",
     "varRefreshCmd": "cat(var_dic_list()) "
    }
   },
   "types_to_exclude": [
    "module",
    "function",
    "builtin_function_or_method",
    "instance",
    "_Feature"
   ],
   "window_display": false
  }
 },
 "nbformat": 4,
 "nbformat_minor": 2
}
